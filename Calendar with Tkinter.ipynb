{
 "cells": [
  {
   "cell_type": "code",
   "execution_count": 5,
   "id": "cae77e93",
   "metadata": {},
   "outputs": [],
   "source": [
    "#Importing tkinter module\n",
    "from tkinter import *\n",
    "#importing calendar module\n",
    "import calendar\n",
    "\n",
    "#function to show calendar of the given year\n",
    "def Cal():\n",
    "    gui = Tk()\n",
    "    gui.config(background='grey')\n",
    "    gui.title(\"Calender for the year\")\n",
    "    gui.geometry(\"550x600\")\n",
    "    year = int(year_field.get())\n",
    "    gui_content= calendar.calendar(year)\n",
    "    calYear = Label(gui, text= gui_content, font= \"Consolas 10 bold\")\n",
    "    calYear.grid(row=5, column=1,padx=20)\n",
    "    gui.mainloop()\n",
    "    \n",
    "#Driver code\n",
    "if __name__=='__main__':\n",
    "    root = Tk()\n",
    "    root.config(background='grey')\n",
    "    root.title(\"Calender\")\n",
    "    root.geometry(\"250x140\")\n",
    "    \n",
    "    cal = Label(root, text = \"Calender\", bg ='grey',font = (\"times\", 28, \"bold\"))\n",
    "    year = Label(root, text=\"Enter year\", bg='dark grey')\n",
    "    year_field=Entry(root)\n",
    "    button = Button(root, text = 'Show Calender', fg = 'Black', bg = 'Blue',command = Cal)\n",
    "\n",
    "    #putting widgets in position\n",
    "    cal.grid(row=1, column=1)\n",
    "    year.grid(row=2, column=1)\n",
    "    year_field.grid(row=3, column=1)\n",
    "    button.grid(row=4, column=1)\n",
    "    \n",
    "    # run loop until cancelled\n",
    "    root.mainloop()"
   ]
  },
  {
   "cell_type": "code",
   "execution_count": null,
   "id": "bff77ec6",
   "metadata": {},
   "outputs": [],
   "source": []
  }
 ],
 "metadata": {
  "kernelspec": {
   "display_name": "Python 3 (ipykernel)",
   "language": "python",
   "name": "python3"
  },
  "language_info": {
   "codemirror_mode": {
    "name": "ipython",
    "version": 3
   },
   "file_extension": ".py",
   "mimetype": "text/x-python",
   "name": "python",
   "nbconvert_exporter": "python",
   "pygments_lexer": "ipython3",
   "version": "3.9.12"
  }
 },
 "nbformat": 4,
 "nbformat_minor": 5
}
